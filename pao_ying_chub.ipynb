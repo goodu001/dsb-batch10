{
  "nbformat": 4,
  "nbformat_minor": 0,
  "metadata": {
    "colab": {
      "provenance": [],
      "authorship_tag": "ABX9TyM6usoh1Ex8KMerxETHLgbb",
      "include_colab_link": true
    },
    "kernelspec": {
      "name": "python3",
      "display_name": "Python 3"
    },
    "language_info": {
      "name": "python"
    }
  },
  "cells": [
    {
      "cell_type": "markdown",
      "metadata": {
        "id": "view-in-github",
        "colab_type": "text"
      },
      "source": [
        "<a href=\"https://colab.research.google.com/github/goodu001/dsb-batch10/blob/main/pao_ying_chub.ipynb\" target=\"_parent\"><img src=\"https://colab.research.google.com/assets/colab-badge.svg\" alt=\"Open In Colab\"/></a>"
      ]
    },
    {
      "cell_type": "code",
      "execution_count": null,
      "metadata": {
        "colab": {
          "base_uri": "https://localhost:8080/"
        },
        "id": "hMaScirdJZ0J",
        "outputId": "d954c7ab-0fb9-498e-b64c-79cc1fff9068"
      },
      "outputs": [
        {
          "output_type": "stream",
          "name": "stdout",
          "text": [
            "I WANT TO PLAY A PAO YING CHUB 5555!!!\n",
            "+++++++++++++++++++++++++++++++++\n",
            "Choose your weapon: [hammer, scissor, paper]\n",
            "your choice: scissor\n",
            "hammer scissor\n",
            "Lose!!\n",
            "////////////////////////////////////\n",
            "I WANT TO PLAY A PAO YING CHUB 5555!!!\n",
            "+++++++++++++++++++++++++++++++++\n",
            "Choose your weapon: [hammer, scissor, paper]\n",
            "your choice: paper\n",
            "paper paper\n",
            "Tie!!\n",
            "////////////////////////////////////\n",
            "I WANT TO PLAY A PAO YING CHUB 5555!!!\n",
            "+++++++++++++++++++++++++++++++++\n",
            "Choose your weapon: [hammer, scissor, paper]\n",
            "your choice: hammer\n",
            "scissor hammer\n",
            "Win!!\n",
            "////////////////////////////////////\n",
            "I WANT TO PLAY A PAO YING CHUB 5555!!!\n",
            "+++++++++++++++++++++++++++++++++\n",
            "Choose your weapon: [hammer, scissor, paper]\n",
            "your choice: hammer\n",
            "scissor hammer\n",
            "Win!!\n",
            "////////////////////////////////////\n",
            "I WANT TO PLAY A PAO YING CHUB 5555!!!\n",
            "+++++++++++++++++++++++++++++++++\n",
            "Choose your weapon: [hammer, scissor, paper]\n",
            "your choice: hammer\n",
            "paper hammer\n",
            "Lose!!\n",
            "////////////////////////////////////\n",
            "I WANT TO PLAY A PAO YING CHUB 5555!!!\n",
            "+++++++++++++++++++++++++++++++++\n",
            "Choose your weapon: [hammer, scissor, paper]\n",
            "your choice: scissor\n",
            "hammer scissor\n",
            "Lose!!\n",
            "////////////////////////////////////\n",
            "I WANT TO PLAY A PAO YING CHUB 5555!!!\n",
            "+++++++++++++++++++++++++++++++++\n",
            "Choose your weapon: [hammer, scissor, paper]\n",
            "your choice: scissor\n",
            "paper scissor\n",
            "Win!!\n",
            "////////////////////////////////////\n",
            "I WANT TO PLAY A PAO YING CHUB 5555!!!\n",
            "+++++++++++++++++++++++++++++++++\n",
            "Choose your weapon: [hammer, scissor, paper]\n",
            "your choice: scissor\n",
            "hammer scissor\n",
            "Lose!!\n",
            "////////////////////////////////////\n",
            "I WANT TO PLAY A PAO YING CHUB 5555!!!\n",
            "+++++++++++++++++++++++++++++++++\n",
            "Choose your weapon: [hammer, scissor, paper]\n",
            "your choice: scissor\n",
            "paper scissor\n",
            "Win!!\n",
            "////////////////////////////////////\n",
            "I WANT TO PLAY A PAO YING CHUB 5555!!!\n",
            "+++++++++++++++++++++++++++++++++\n",
            "Choose your weapon: [hammer, scissor, paper]\n",
            "your choice: paper\n",
            "scissor paper\n",
            "Lose!!\n",
            "////////////////////////////////////\n",
            "________________________________________\n",
            "Game count:  10\n",
            "Player points:  4\n",
            "Bot points:  5\n",
            "Tie points:  1\n"
          ]
        }
      ],
      "source": [
        "from random import choice\n",
        "\n",
        "def pao_ying_chub():\n",
        "    player_points = 0\n",
        "    bot_points = 0\n",
        "    game_count = 0\n",
        "    tie_points = 0\n",
        "    while game_count < 10:\n",
        "        print(\"I WANT TO PLAY A PAO YING CHUB 5555!!!\")\n",
        "        print(\"+++++++++++++++++++++++++++++++++\")\n",
        "        hands = [\"hammer\", \"scissor\", \"paper\"]\n",
        "        com_hand = choice(hands)\n",
        "        print(\"Choose your weapon: [hammer, scissor, paper]\")\n",
        "        user_hand = input(\"your choice: \")\n",
        "        print(com_hand, user_hand)\n",
        "        if user_hand == com_hand:\n",
        "            print(\"Tie!!\")\n",
        "            tie_points = tie_points + 1\n",
        "        elif (user_hand == \"hammer\" and com_hand == \"scissor\" or\n",
        "              user_hand == \"scissor\" and com_hand == \"paper\" or\n",
        "              user_hand == \"paper\" and com_hand == \"hammer\"):\n",
        "            print(\"Win!!\")\n",
        "            player_points = player_points + 1\n",
        "        else:\n",
        "            print(\"Lose!!\")\n",
        "            bot_points = bot_points + 1\n",
        "        print(\"////////////////////////////////////\")\n",
        "        game_count = game_count + 1\n",
        "    print(\"________________________________________\")\n",
        "    print(\"Game count: \", game_count)\n",
        "    print(\"Player points: \", player_points)\n",
        "    print(\"Bot points: \", bot_points)\n",
        "    print(\"Tie points: \", tie_points)\n",
        "\n",
        "pao_ying_chub()"
      ]
    },
    {
      "cell_type": "code",
      "source": [],
      "metadata": {
        "id": "NZH0p4ytODvg"
      },
      "execution_count": null,
      "outputs": []
    }
  ]
}