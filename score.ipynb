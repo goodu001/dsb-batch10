{
  "nbformat": 4,
  "nbformat_minor": 0,
  "metadata": {
    "colab": {
      "provenance": [],
      "authorship_tag": "ABX9TyP+vZZkGSUme+epgUl+25Mh",
      "include_colab_link": true
    },
    "kernelspec": {
      "name": "ir",
      "display_name": "R"
    },
    "language_info": {
      "name": "R"
    }
  },
  "cells": [
    {
      "cell_type": "markdown",
      "metadata": {
        "id": "view-in-github",
        "colab_type": "text"
      },
      "source": [
        "<a href=\"https://colab.research.google.com/github/goodu001/dsb-batch10/blob/main/score.ipynb\" target=\"_parent\"><img src=\"https://colab.research.google.com/assets/colab-badge.svg\" alt=\"Open In Colab\"/></a>"
      ]
    },
    {
      "cell_type": "code",
      "execution_count": null,
      "metadata": {
        "id": "VGLOwRbveLnN"
      },
      "outputs": [],
      "source": [
        "grading <- function(score) {\n",
        "  if (score >= 80){\n",
        "    return(\"A\")\n",
        "  } else if (score >= 70) {\n",
        "    return(\"B\")\n",
        "  } else if (score >= 60) {\n",
        "    return(\"C\")\n",
        "  } else if (score >= 50) {\n",
        "    return(\"D\")\n",
        "  } else {\n",
        "    return(\"F\")\n",
        "  }\n",
        "}\n"
      ]
    },
    {
      "cell_type": "code",
      "source": [
        "# Import necessary libraries\n",
        "import numpy as np\n",
        "import pandas as pd\n",
        "from sklearn.linear_model import LinearRegression\n",
        "from sklearn.preprocessing import OneHotEncoder\n",
        "from sklearn.compose import ColumnTransformer\n",
        "from sklearn.model_selection import train_test_split\n",
        "\n",
        "# Sample data\n",
        "data = {\n",
        "    \"Age\": [38, 31, 45, 34, 42, 28, 33, 40, 26, 22, 39, 47, 30, 36, 32, 38, 35, 40, 29, 41],\n",
        "    \"City\": [\"New York\", \"San Francisco\", \"Miami\", \"Chicago\", \"Dallas\", \"Houston\", \"Phoenix\", \"Seattle\",\n",
        "             \"Denver\", \"Atlanta\", \"Boston\", \"Portland\", \"Las Vegas\", \"San Diego\", \"Orlando\", \"Charlotte\",\n",
        "             \"San Jose\", \"Austin\", \"Columbus\", \"Detroit\"],\n",
        "    \"Plan\": [\"Postpaid\", \"Prepaid\", \"Postpaid\", \"Postpaid\", \"Prepaid\", \"Postpaid\", \"Postpaid\", \"Postpaid\",\n",
        "             \"Prepaid\", \"Postpaid\", \"Prepaid\", \"Postpaid\", \"Postpaid\", \"Postpaid\", \"Postpaid\", \"Prepaid\",\n",
        "             \"Postpaid\", \"Prepaid\", \"Prepaid\", \"Postpaid\"],\n",
        "    \"Data_Usage\": [25.4, 50.2, 10.6, 120.8, 5.9, 78.3, 22.1, 98.5, 3.2, 40.7, 45.5, 110.3, 18.9, 52.8,\n",
        "                   28.3, 35.6, 150.4, 12.4, 8.9, 65.0]\n",
        "}\n",
        "\n",
        "# Create a DataFrame\n",
        "df = pd.DataFrame(data)\n",
        "\n",
        "# Features and target variable\n",
        "X = df[[\"Age\", \"City\", \"Plan\"]]\n",
        "y = df[\"Data_Usage\"]\n",
        "\n",
        "# Encode categorical variables\n",
        "preprocessor = ColumnTransformer(\n",
        "    transformers=[\n",
        "        (\"city\", OneHotEncoder(drop=\"first\"), [\"City\"]),\n",
        "        (\"plan\", OneHotEncoder(drop=\"first\"), [\"Plan\"]),\n",
        "    ],\n",
        "    remainder=\"passthrough\"\n",
        ")\n",
        "\n",
        "# Transform the data\n",
        "X_transformed = preprocessor.fit_transform(X)\n",
        "\n",
        "# Train-test split\n",
        "X_train, X_test, y_train, y_test = train_test_split(X_transformed, y, test_size=0.2, random_state=42)\n",
        "\n",
        "# Create and train the Linear Regression model\n",
        "model = LinearRegression()\n",
        "model.fit(X_train, y_train)\n",
        "\n",
        "# New customer details\n",
        "new_customer = pd.DataFrame({\n",
        "    \"Age\": [39],\n",
        "    \"City\": [\"Boston\"],\n",
        "    \"Plan\": [\"Prepaid\"]\n",
        "})\n",
        "\n",
        "# Transform the new customer's data\n",
        "new_customer_transformed = preprocessor.transform(new_customer)\n",
        "\n",
        "# Predict data usage for the new customer\n",
        "predicted_usage = model.predict(new_customer_transformed)\n",
        "predicted_usage\n"
      ],
      "metadata": {
        "colab": {
          "base_uri": "https://localhost:8080/",
          "height": 124
        },
        "id": "9Gqpht0dsjp9",
        "outputId": "ae08c844-a9d2-4532-eaf0-13627f0bd8f7"
      },
      "execution_count": null,
      "outputs": [
        {
          "output_type": "error",
          "ename": "ERROR",
          "evalue": "Error in parse(text = input): <text>:2:8: unexpected symbol\n1: # Import necessary libraries\n2: import numpy\n          ^\n",
          "traceback": [
            "Error in parse(text = input): <text>:2:8: unexpected symbol\n1: # Import necessary libraries\n2: import numpy\n          ^\nTraceback:\n"
          ]
        }
      ]
    },
    {
      "cell_type": "code",
      "source": [
        "# Import necessary libraries\n",
        "import numpy as np # Added 'as np'\n",
        "import pandas as pd\n",
        "from sklearn.linear_model import LinearRegression\n",
        "from sklearn.preprocessing import OneHotEncoder\n",
        "from sklearn.compose import ColumnTransformer\n",
        "from sklearn.model_selection import train_test_split\n",
        "\n",
        "# Sample data\n",
        "data = {\n",
        "    \"Age\": [38, 31, 45, 34, 42, 28, 33, 40, 26, 22, 39, 47, 30, 36, 32, 38, 35, 40, 29, 41],\n",
        "    \"City\": [\"New York\", \"San Francisco\", \"Miami\", \"Chicago\", \"Dallas\", \"Houston\", \"Phoenix\", \"Seattle\",\n",
        "             \"Denver\", \"Atlanta\", \"Boston\", \"Portland\", \"Las Vegas\", \"San Diego\", \"Orlando\", \"Charlotte\",\n",
        "             \"San Jose\", \"Austin\", \"Columbus\", \"Detroit\"],\n",
        "    \"Plan\": [\"Postpaid\", \"Prepaid\", \"Postpaid\", \"Postpaid\", \"Prepaid\", \"Postpaid\", \"Postpaid\", \"Postpaid\",\n",
        "             \"Prepaid\", \"Postpaid\", \"Prepaid\", \"Postpaid\", \"Postpaid\", \"Postpaid\", \"Postpaid\", \"Prepaid\",\n",
        "             \"Postpaid\", \"Prepaid\", \"Prepaid\", \"Postpaid\"],\n",
        "    \"Data_Usage\": [25.4, 50.2, 10.6, 120.8, 5.9, 78.3, 22.1, 98.5, 3.2, 40.7, 45.5, 110.3, 18.9, 52.8,\n",
        "                   28.3, 35.6, 150.4, 12.4, 8.9, 65.0]\n",
        "}\n",
        "\n",
        "# Create a DataFrame\n",
        "df = pd.DataFrame(data)\n",
        "\n",
        "# Features and target variable\n",
        "X = df[[\"Age\", \"City\", \"Plan\"]]\n",
        "y = df[\"Data_Usage\"]\n",
        "\n",
        "# Encode categorical variables\n",
        "preprocessor = ColumnTransformer(\n",
        "    transformers=[\n",
        "        (\"city\", OneHotEncoder(drop=\"first\"), [\"City\"]),\n",
        "        (\"plan\", OneHotEncoder(drop=\"first\"), [\"Plan\"]),\n",
        "    ],\n",
        "    remainder=\"passthrough\"\n",
        ")\n",
        "\n",
        "# Transform the data\n",
        "X_transformed = preprocessor.fit_transform(X)\n",
        "\n",
        "# Train-test split\n",
        "X_train, X_test, y_train, y_test = train_test_split(X_transformed, y, test_size=0.2, random_state=42)\n",
        "\n",
        "# Create and train the Linear Regression model\n",
        "model = LinearRegression()\n",
        "model.fit(X_train, y_train)\n",
        "\n",
        "# New customer details\n",
        "new_customer = pd.DataFrame({\n",
        "    \"Age\": [39],\n",
        "    \"City\": [\"Boston\"],\n",
        "    \"Plan\": [\"Prepaid\"]\n",
        "})\n",
        "\n",
        "# Transform the new customer's data\n",
        "new_customer_transformed = preprocessor.transform(new_customer)\n",
        "\n",
        "# Predict data usage for the new customer\n",
        "predicted_usage = model.predict(new_customer_transformed)\n",
        "predicted_usage"
      ],
      "metadata": {
        "id": "UdBo_vAruJ2V",
        "colab": {
          "base_uri": "https://localhost:8080/",
          "height": 124
        },
        "outputId": "a6972f7b-5620-4fb1-c796-857d73866105"
      },
      "execution_count": null,
      "outputs": [
        {
          "output_type": "error",
          "ename": "ERROR",
          "evalue": "Error in parse(text = input): <text>:2:8: unexpected symbol\n1: # Import necessary libraries\n2: import numpy\n          ^\n",
          "traceback": [
            "Error in parse(text = input): <text>:2:8: unexpected symbol\n1: # Import necessary libraries\n2: import numpy\n          ^\nTraceback:\n"
          ]
        }
      ]
    }
  ]
}